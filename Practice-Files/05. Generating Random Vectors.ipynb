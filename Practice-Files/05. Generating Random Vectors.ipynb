{
 "cells": [
  {
   "cell_type": "markdown",
   "id": "5353abff",
   "metadata": {},
   "source": [
    "<div style=\"background-color:#F5F5DC; line-height:1.5; text-align:center;border:2px solid black;\">\n",
    "    <div style=\"color:blue; font-size:24pt; font-weight:700;\">Generating Random Vectors</div>\n",
    "</div>"
   ]
  },
  {
   "cell_type": "markdown",
   "id": "f5bb4167",
   "metadata": {},
   "source": [
    "## Random Vectors from Uniform Distribution"
   ]
  },
  {
   "cell_type": "code",
   "execution_count": null,
   "id": "3ff3cbed",
   "metadata": {},
   "outputs": [],
   "source": [
    "# generate 1 random number between the default values of 0 and 1\n",
    "# Set the seed\n",
    "\n",
    "\n"
   ]
  },
  {
   "cell_type": "code",
   "execution_count": null,
   "id": "b57eface",
   "metadata": {},
   "outputs": [],
   "source": [
    "# generate 10 random numbers between 1 and 10\n",
    "# Set the seed \n",
    "\n",
    "\n"
   ]
  },
  {
   "cell_type": "code",
   "execution_count": null,
   "id": "5dd90a13",
   "metadata": {},
   "outputs": [],
   "source": [
    "# generate 1000 random numbers between 1 and 10\n",
    "# Set the seed \n",
    "\n",
    "\n"
   ]
  },
  {
   "cell_type": "code",
   "execution_count": null,
   "id": "6ff50c70",
   "metadata": {},
   "outputs": [],
   "source": [
    "# Check the summary statistics using the summary() function\n",
    "\n",
    "\n"
   ]
  },
  {
   "cell_type": "markdown",
   "id": "92ae1c58",
   "metadata": {},
   "source": [
    "## Random Vectors from Normal Distribution"
   ]
  },
  {
   "cell_type": "code",
   "execution_count": null,
   "id": "4b0f3f28",
   "metadata": {},
   "outputs": [],
   "source": [
    "# generate 10 random number using the default of rnorm() function\n",
    "# Set the seed\n",
    "\n"
   ]
  },
  {
   "cell_type": "code",
   "execution_count": null,
   "id": "d78e5faa",
   "metadata": {},
   "outputs": [],
   "source": [
    "# Generate 25 random numbers from the normal distribution with mean=10 \n",
    "# and sd = 3.5\n",
    "# set the seed \n",
    "\n",
    "\n",
    "# Check the summary statistics\n",
    "\n",
    "\n"
   ]
  },
  {
   "cell_type": "code",
   "execution_count": null,
   "id": "d62e378c",
   "metadata": {
    "run_control": {
     "marked": true
    }
   },
   "outputs": [],
   "source": [
    "# Generate 500 random numbers from the normal distribution with mean=10 \n",
    "# and sd = 3.5\n",
    "# set the seed \n",
    "\n",
    "\n",
    "\n",
    "# Check the summary statistics \n",
    "\n",
    "\n"
   ]
  },
  {
   "cell_type": "markdown",
   "id": "e70e7701",
   "metadata": {},
   "source": [
    "## Random Vectors from Binomial Distribution"
   ]
  },
  {
   "cell_type": "code",
   "execution_count": null,
   "id": "278a45a3",
   "metadata": {},
   "outputs": [],
   "source": [
    "# generate 1 random number from binomial distribution\n",
    "# set a seed for reproducibility (2)\n",
    "\n",
    "\n"
   ]
  },
  {
   "cell_type": "code",
   "execution_count": null,
   "id": "665d4ae0",
   "metadata": {},
   "outputs": [],
   "source": [
    "# Generate 10 random numbers from binomial distribution\n",
    "# Set the seed\n",
    "\n"
   ]
  },
  {
   "cell_type": "code",
   "execution_count": null,
   "id": "3d9cf7f7",
   "metadata": {},
   "outputs": [],
   "source": [
    "# Flip 10 coins 1 time (n=1, size = 10)\n",
    "# set the seed\n",
    "\n",
    "\n",
    "# Explain the result\n",
    "\n"
   ]
  },
  {
   "cell_type": "code",
   "execution_count": null,
   "id": "a2dd3166",
   "metadata": {},
   "outputs": [],
   "source": [
    "# Flip 10 coins with 10 times (n=10, size = 10)\n",
    "# Set the seed \n",
    "\n",
    "\n"
   ]
  },
  {
   "cell_type": "markdown",
   "id": "1ebd9eb6",
   "metadata": {},
   "source": [
    "## Random Vectors from Poisson Distribution"
   ]
  },
  {
   "cell_type": "code",
   "execution_count": null,
   "id": "8a56a889",
   "metadata": {},
   "outputs": [],
   "source": [
    "# generate 10 random numbers from poisson distribution with lambda=2\n",
    "# Set the seed \n",
    "\n",
    "\n"
   ]
  },
  {
   "cell_type": "code",
   "execution_count": null,
   "id": "628b94e3",
   "metadata": {},
   "outputs": [],
   "source": [
    "# generate 500 random numbers from poisson distribution with lambda=7\n",
    "# Set the seed \n",
    "\n"
   ]
  },
  {
   "cell_type": "code",
   "execution_count": null,
   "id": "ba1ae6a2",
   "metadata": {},
   "outputs": [],
   "source": [
    "# Get the summary statistics of the last vector\n",
    "\n"
   ]
  },
  {
   "cell_type": "markdown",
   "id": "2ad05423",
   "metadata": {},
   "source": [
    "## Random Vectors from Exponential Distribution"
   ]
  },
  {
   "cell_type": "code",
   "execution_count": null,
   "id": "4e032802",
   "metadata": {},
   "outputs": [],
   "source": [
    "# generate 10 random numbers from the exponential distribution with rate=2\n",
    "# Set the seed \n",
    "\n"
   ]
  },
  {
   "cell_type": "code",
   "execution_count": null,
   "id": "3317fe8b",
   "metadata": {},
   "outputs": [],
   "source": [
    "# Generate 25 random numbers from the exponential distribution with rate=10\n",
    "# Set the seed \n",
    "\n",
    "\n"
   ]
  },
  {
   "cell_type": "code",
   "execution_count": null,
   "id": "2f1197e8",
   "metadata": {},
   "outputs": [],
   "source": [
    "# Generate 500 random numbers from the exponential distribution with rate=3\n",
    "# Set the seed \n",
    "\n",
    "\n"
   ]
  },
  {
   "cell_type": "code",
   "execution_count": null,
   "id": "37e28c67",
   "metadata": {},
   "outputs": [],
   "source": [
    "# Get the summary statistics of the last vector\n",
    "\n",
    "\n"
   ]
  },
  {
   "cell_type": "code",
   "execution_count": null,
   "id": "a69938f4",
   "metadata": {},
   "outputs": [],
   "source": []
  }
 ],
 "metadata": {
  "kernelspec": {
   "display_name": "R",
   "language": "R",
   "name": "ir"
  },
  "language_info": {
   "codemirror_mode": "r",
   "file_extension": ".r",
   "mimetype": "text/x-r-source",
   "name": "R",
   "pygments_lexer": "r",
   "version": "4.1.2"
  },
  "toc": {
   "base_numbering": 1,
   "nav_menu": {},
   "number_sections": true,
   "sideBar": true,
   "skip_h1_title": false,
   "title_cell": "Table of Contents",
   "title_sidebar": "Contents",
   "toc_cell": false,
   "toc_position": {},
   "toc_section_display": true,
   "toc_window_display": false
  }
 },
 "nbformat": 4,
 "nbformat_minor": 5
}
